{
 "cells": [
  {
   "cell_type": "markdown",
   "id": "f5bd02bb-17cc-4879-888e-3139f840d1ae",
   "metadata": {},
   "source": [
    "<h2 style='color:Tomato'>Project Report</h2>\n",
    "    \n",
    "<h2>Titanic Survival Analysis </h2>"
   ]
  },
  {
   "cell_type": "markdown",
   "id": "3329a5b5-23e6-4d88-bbc9-9d0478c1c46f",
   "metadata": {},
   "source": [
    "<h3 style='color:green'>Project Overview</h3>\n",
    "\n",
    "This project is an **Exploratory Data Analysis (EDA)** of the Titanic dataset to understand patterns related to passenger survival. Processes performed were data cleaning, feature engineering, and insightful visualizations using Python libraries like Pandas and Matplotlib."
   ]
  },
  {
   "cell_type": "markdown",
   "id": "a7c1b7ea-1d41-444d-91d4-f92a595ab3a3",
   "metadata": {},
   "source": [
    "<h3 style='color:green'>Dataset Used</h3>\n",
    "\n",
    "The dataset used for this project is the **Titanic** dataset from kaggle, which contains informations such as PassengerID, Name, Sex, Sibling/Spouse, Parent/Child, Ticket, Fare, Cabin, Embarked and survival status."
   ]
  },
  {
   "cell_type": "markdown",
   "id": "4299012d-2da7-4edd-891c-a9a4e22f7f29",
   "metadata": {},
   "source": [
    "<h3 style='color:green'>Data Cleaning</h3>\n",
    "\n",
    "The dataset was ensured clean and ready for analysis with the following steps:\n",
    "\n",
    "• Dropped the 'Cabin' column due to a high percentage of missing values.\n",
    "\n",
    "• Filled missing values :\n",
    "\n",
    "   Age : Replaced missing values with median.\n",
    "\n",
    "   Embarked : Filled missing entries with the mode (most common port).\n",
    "\n",
    "• Renamed columns to improve clarity :\n",
    "\n",
    "   SibSp was renamed to Siblings_Spouses_Aboard\n",
    "\n",
    "   Parch was renamed to Parent_Children_Aboard\n",
    "\n",
    "• Standardized values :\n",
    "\n",
    "   Caitalized entries in the Sex column (e.g., male to Male)\n",
    "\n",
    "• Checked and confirmed no missing values."
   ]
  },
  {
   "cell_type": "markdown",
   "id": "e831c94b-fc5b-486b-b678-5600a829bb91",
   "metadata": {},
   "source": [
    "<h3 style='color:green'>Feature Engineering</h3>\n",
    "\n",
    "New features were created to extract more meaningful insights.\n",
    "\n",
    " • Extracted Titles like Mr, Mrs, Miss from the Name column using String methods.\n",
    "\n",
    "Encoded the Sex column to numeric values for modeling or analysis purposes (Male - 0, Female - 1)"
   ]
  },
  {
   "cell_type": "markdown",
   "id": "10fee48a-a617-4a43-a89b-fa398a7646eb",
   "metadata": {},
   "source": [
    "<h3 style='color:green'>Exploratory Data Analysis (Visualizations)</h3\n",
    "\n",
    "Various relationships were explored using visualizations \n",
    "\n",
    "**1. Overall Survival Count**\n",
    "\n",
    "Out of all passengers, 549 died while only 342 survived.\n",
    "\n",
    "**2. Survival Count by Gender**\n",
    "\n",
    "Females had a significantly higher survival rate than males.\n",
    "\n",
    "**3. Survival Count by Passenger Class**\n",
    "\n",
    "Passengers in the first class had better survival chances than those in 2nd or 3rd.\n",
    "\n",
    "**4. Survival Count by Embarked Port**\n",
    "\n",
    "Most passengers embarked from Southampton, but survival rates were highest for those who boarded at Cherbourg.\n",
    "\n",
    "**5. Age Distribution of Passengers**\n",
    "\n",
    "Most passengers were between 20 to 40 years old.\n",
    "\n",
    "**6. Fare distribution of Passengers**\n",
    "\n",
    "Most passengers paid a fare below 50 units.\n",
    "\n",
    "**7.Survival Count by Age**\n",
    "\n",
    "Young children (0–10) had better survival chances."
   ]
  },
  {
   "cell_type": "markdown",
   "id": "cdb7013b-e167-46d2-af0b-3860b2d6989c",
   "metadata": {},
   "source": [
    "<h3 style='color:green'>Conclusion</h3>\n",
    "\n",
    "Through this project, we learned:\n",
    "\n",
    "• How to clean and preprocess real-world datasets.\n",
    "\n",
    "• How to engineer new features for deeper analysis.\n",
    "\n",
    "• How to extract meaningful insights using visualizations.\n",
    "\n",
    "This project lays the foundation for future modeling and predictive analytics, like building a Machine Learning model to predict survival."
   ]
  }
 ],
 "metadata": {
  "kernelspec": {
   "display_name": "Python [conda env:base] *",
   "language": "python",
   "name": "conda-base-py"
  },
  "language_info": {
   "codemirror_mode": {
    "name": "ipython",
    "version": 3
   },
   "file_extension": ".py",
   "mimetype": "text/x-python",
   "name": "python",
   "nbconvert_exporter": "python",
   "pygments_lexer": "ipython3",
   "version": "3.12.7"
  }
 },
 "nbformat": 4,
 "nbformat_minor": 5
}
